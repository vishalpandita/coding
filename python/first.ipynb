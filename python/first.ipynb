{
 "metadata": {
  "language_info": {
   "codemirror_mode": {
    "name": "ipython",
    "version": 3
   },
   "file_extension": ".py",
   "mimetype": "text/x-python",
   "name": "python",
   "nbconvert_exporter": "python",
   "pygments_lexer": "ipython3",
   "version": "3.8.5"
  },
  "orig_nbformat": 2,
  "kernelspec": {
   "name": "python385jvsc74a57bd030f805ae13c79d94bb9f2adf4c834daf2928bef4204966dd3ecc69f6b4b4a940",
   "display_name": "Python 3.8.5 64-bit"
  }
 },
 "nbformat": 4,
 "nbformat_minor": 2,
 "cells": [
  {
   "source": [
    "## Learning few tricks"
   ],
   "cell_type": "markdown",
   "metadata": {}
  },
  {
   "cell_type": "code",
   "execution_count": 3,
   "metadata": {},
   "outputs": [
    {
     "output_type": "execute_result",
     "data": {
      "text/plain": [
       "100"
      ]
     },
     "metadata": {},
     "execution_count": 3
    }
   ],
   "source": [
    "# exponential operator\n",
    "# we know 10^2 is \n",
    "10 ** 2"
   ]
  },
  {
   "cell_type": "code",
   "execution_count": 4,
   "metadata": {},
   "outputs": [
    {
     "output_type": "execute_result",
     "data": {
      "text/plain": [
       "22"
      ]
     },
     "metadata": {},
     "execution_count": 4
    }
   ],
   "source": [
    "# To leave off the remainder value when doing division, use the remainder operator //, which is two forward slash marks:\n",
    "45//2"
   ]
  },
  {
   "cell_type": "code",
   "execution_count": 5,
   "metadata": {},
   "outputs": [],
   "source": [
    "# Integer Variable\n",
    "numberOfRocks = 5\n",
    "\n",
    "# Float Variable\n",
    "tempInSpace = -457.87\n",
    "\n",
    "# String Variable\n",
    "roverName = \"Artemis Rover\"\n",
    "\n",
    "# Boolean Variable\n",
    "rocketOn = False"
   ]
  },
  {
   "cell_type": "code",
   "execution_count": 6,
   "metadata": {},
   "outputs": [
    {
     "output_type": "execute_result",
     "data": {
      "text/plain": [
       "'Artemis Rover'"
      ]
     },
     "metadata": {},
     "execution_count": 6
    }
   ],
   "source": [
    "roverName"
   ]
  },
  {
   "cell_type": "code",
   "execution_count": 7,
   "metadata": {},
   "outputs": [],
   "source": [
    "# Create integer variable named basaltRockCount with value 0\n",
    "basaltRockCount = 0"
   ]
  },
  {
   "cell_type": "code",
   "execution_count": 8,
   "metadata": {},
   "outputs": [
    {
     "output_type": "execute_result",
     "data": {
      "text/plain": [
       "4"
      ]
     },
     "metadata": {},
     "execution_count": 8
    }
   ],
   "source": [
    "basaltRockCount = 3\n",
    "basaltRockCount = basaltRockCount + 1\n",
    "basaltRockCount"
   ]
  },
  {
   "cell_type": "code",
   "execution_count": 9,
   "metadata": {},
   "outputs": [],
   "source": [
    "basaltRockCount = 5\n",
    "basaltRockCount += 3 #Add 3\n",
    "basaltRockCount -= 2 #Remove 2"
   ]
  },
  {
   "cell_type": "code",
   "execution_count": 10,
   "metadata": {},
   "outputs": [
    {
     "output_type": "execute_result",
     "data": {
      "text/plain": [
       "228621"
      ]
     },
     "metadata": {},
     "execution_count": 10
    }
   ],
   "source": [
    "# Find out how many miles until rocket reaches moon\n",
    "distanceToMoon = 238855\n",
    "distanceTraveled = 10234\n",
    "distanceToMoon - distanceTraveled"
   ]
  },
  {
   "cell_type": "code",
   "execution_count": 11,
   "metadata": {},
   "outputs": [],
   "source": [
    "astronaut = \"Remy Morris\""
   ]
  },
  {
   "cell_type": "code",
   "execution_count": 12,
   "metadata": {},
   "outputs": [
    {
     "output_type": "execute_result",
     "data": {
      "text/plain": [
       "'REMY MORRIS'"
      ]
     },
     "metadata": {},
     "execution_count": 12
    }
   ],
   "source": [
    "upperCase = astronaut.upper()\n",
    "upperCase"
   ]
  },
  {
   "cell_type": "code",
   "execution_count": 13,
   "metadata": {},
   "outputs": [
    {
     "output_type": "execute_result",
     "data": {
      "text/plain": [
       "<function str.upper()>"
      ]
     },
     "metadata": {},
     "execution_count": 13
    }
   ],
   "source": [
    "astronaut.upper"
   ]
  },
  {
   "cell_type": "code",
   "execution_count": 14,
   "metadata": {},
   "outputs": [
    {
     "output_type": "execute_result",
     "data": {
      "text/plain": [
       "'remy morris'"
      ]
     },
     "metadata": {},
     "execution_count": 14
    }
   ],
   "source": [
    "lowerCase = astronaut.lower()\n",
    "lowerCase"
   ]
  },
  {
   "cell_type": "code",
   "execution_count": 15,
   "metadata": {},
   "outputs": [
    {
     "output_type": "execute_result",
     "data": {
      "text/plain": [
       "'Rocket is a launch!'"
      ]
     },
     "metadata": {},
     "execution_count": 15
    }
   ],
   "source": [
    "rocketOutput = \"rOckEt iS A laUncH!\"\n",
    "rocketOutput.capitalize()"
   ]
  },
  {
   "cell_type": "code",
   "execution_count": 16,
   "metadata": {},
   "outputs": [
    {
     "output_type": "execute_result",
     "data": {
      "text/plain": [
       "'Cape Canaveral, Florida'"
      ]
     },
     "metadata": {},
     "execution_count": 16
    }
   ],
   "source": [
    "launchLocationCity = \"Cape Canaveral, \"\n",
    "launchLocationState = \"Florida\"\n",
    "\n",
    "launchLocationCity + launchLocationState"
   ]
  },
  {
   "cell_type": "code",
   "execution_count": 17,
   "metadata": {},
   "outputs": [
    {
     "output_type": "execute_result",
     "data": {
      "text/plain": [
       "'beep beep beep beep beep beep '"
      ]
     },
     "metadata": {},
     "execution_count": 17
    }
   ],
   "source": [
    "artemisRoverSounds = \"beep beep \"\n",
    "artemisRoverSounds * 3"
   ]
  },
  {
   "cell_type": "code",
   "execution_count": 18,
   "metadata": {},
   "outputs": [
    {
     "output_type": "execute_result",
     "data": {
      "text/plain": [
       "['basalt', 'highland', 'breccia']"
      ]
     },
     "metadata": {},
     "execution_count": 18
    }
   ],
   "source": [
    "# Create a list of common moon rocks\n",
    "rockTypes = [\"basalt\", \"highland\", \"breccia\"]\n",
    "rockTypes"
   ]
  },
  {
   "cell_type": "code",
   "execution_count": 19,
   "metadata": {},
   "outputs": [
    {
     "output_type": "execute_result",
     "data": {
      "text/plain": [
       "['basalt', 1, 'highland', 2.5, 'breccia', 5]"
      ]
     },
     "metadata": {},
     "execution_count": 19
    }
   ],
   "source": [
    "# A list with rock names and the number of that rock found\n",
    "rockTypeAndCount = [\"basalt\", 1, \"highland\", 2.5, \"breccia\", 5]\n",
    "rockTypeAndCount"
   ]
  },
  {
   "cell_type": "code",
   "execution_count": 20,
   "metadata": {},
   "outputs": [
    {
     "output_type": "execute_result",
     "data": {
      "text/plain": [
       "['basalt', 'highland', 'breccia', 'soil']"
      ]
     },
     "metadata": {},
     "execution_count": 20
    }
   ],
   "source": [
    "rockTypes.append(\"soil\")\n",
    "rockTypes"
   ]
  },
  {
   "cell_type": "code",
   "execution_count": 21,
   "metadata": {},
   "outputs": [
    {
     "output_type": "execute_result",
     "data": {
      "text/plain": [
       "['basalt', 'highland', 'breccia']"
      ]
     },
     "metadata": {},
     "execution_count": 21
    }
   ],
   "source": [
    "rockTypes.pop()\n",
    "rockTypes"
   ]
  },
  {
   "cell_type": "code",
   "execution_count": 22,
   "metadata": {},
   "outputs": [
    {
     "output_type": "execute_result",
     "data": {
      "text/plain": [
       "'highland'"
      ]
     },
     "metadata": {},
     "execution_count": 22
    }
   ],
   "source": [
    "rockTypes[1]"
   ]
  },
  {
   "cell_type": "code",
   "execution_count": 23,
   "metadata": {},
   "outputs": [
    {
     "output_type": "execute_result",
     "data": {
      "text/plain": [
       "['basalt', 'highland', 'soil']"
      ]
     },
     "metadata": {},
     "execution_count": 23
    }
   ],
   "source": [
    "rockTypes[2] = \"soil\"\n",
    "rockTypes"
   ]
  },
  {
   "cell_type": "code",
   "execution_count": 24,
   "metadata": {},
   "outputs": [
    {
     "output_type": "execute_result",
     "data": {
      "text/plain": [
       "8"
      ]
     },
     "metadata": {},
     "execution_count": 24
    }
   ],
   "source": [
    "2 + 2\n",
    "5 + 3"
   ]
  },
  {
   "cell_type": "code",
   "execution_count": 25,
   "metadata": {},
   "outputs": [
    {
     "output_type": "stream",
     "name": "stdout",
     "text": [
      "6\nHello World\n"
     ]
    }
   ],
   "source": [
    "print(6)\n",
    "print(\"Hello World\")"
   ]
  },
  {
   "cell_type": "code",
   "execution_count": 26,
   "metadata": {},
   "outputs": [
    {
     "output_type": "stream",
     "name": "stdout",
     "text": [
      "15\n"
     ]
    }
   ],
   "source": [
    "numRocks = 15\n",
    "print(numRocks)"
   ]
  },
  {
   "cell_type": "code",
   "execution_count": 27,
   "metadata": {},
   "outputs": [
    {
     "output_type": "stream",
     "name": "stdout",
     "text": [
      "The number of Basalt rocks found: 4\n"
     ]
    }
   ],
   "source": [
    "numBasalt = 4\n",
    "print(\"The number of Basalt rocks found:\", numBasalt)"
   ]
  },
  {
   "cell_type": "code",
   "execution_count": 28,
   "metadata": {},
   "outputs": [
    {
     "output_type": "stream",
     "name": "stdout",
     "text": [
      "On February 26 number of rocks found: 15\n"
     ]
    }
   ],
   "source": [
    "date = \"February 26\"\n",
    "numRocks = 15\n",
    "print(\"On\", date, \"number of rocks found:\", numRocks)"
   ]
  },
  {
   "cell_type": "code",
   "execution_count": null,
   "metadata": {},
   "outputs": [],
   "source": []
  }
 ]
}